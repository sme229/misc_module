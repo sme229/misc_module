{
 "cells": [
  {
   "cell_type": "code",
   "execution_count": 7,
   "id": "21c5a784",
   "metadata": {},
   "outputs": [
    {
     "name": "stdout",
     "output_type": "stream",
     "text": [
      "9\n"
     ]
    }
   ],
   "source": [
    "from Bio import SeqIO\n",
    "from Bio.SeqUtils import GC\n",
    "\n",
    "def filter_fastq(input_path: str, quality_threshold: int, output_filename=\"final_filtered.fastq\",  gc_bounds=(40, 60), length_bounds=(50, 350)):\n",
    "    filename = input_path\n",
    "    records = SeqIO.parse(filename, \"fastq\")\n",
    "    ###quality filter\n",
    "    good_reads = (rec for rec in records if min(rec.letter_annotations[\"phred_quality\"]) >= quality_threshold)\n",
    "    result_quality = SeqIO.write(good_reads, \"good_quality.fastq\", \"fastq\")\n",
    "    result_quality_GC = SeqIO.parse(\"good_quality.fastq\", \"fastq\")\n",
    "  \n",
    "    ###GC content filter\n",
    "    min_gc_content = gc_bounds[0]\n",
    "    max_gc_content = gc_bounds[1]\n",
    "    GC_quality_filt = []\n",
    "    \n",
    "    for sequence in result_quality_GC:\n",
    "        if min_gc_content <= GC(sequence.seq) <= max_gc_content:\n",
    "            GC_quality_filt.append(sequence)\n",
    "            \n",
    "    result_quality = SeqIO.write(GC_quality_filt, \"good_quality_GC.fastq\", \"fastq\")\n",
    "    result_quality_GC_length = SeqIO.parse(\"good_quality_GC.fastq\", \"fastq\")\n",
    "    \n",
    "    ##length filter\n",
    "    filtered_GC_quality_length = []\n",
    "    \n",
    "    for sequence in result_quality_GC_length:\n",
    "        if len(sequence.seq) >= length_bounds[0] and len(sequence.seq) <= length_bounds[1]:\n",
    "            filtered_GC_quality_length.append(sequence)\n",
    "            \n",
    "    result_quality = SeqIO.write(filtered_GC_quality_length, output_filename, \"fastq\")\n",
    "    \n",
    "    print(result_quality)\n",
    "\n",
    "#filter_fastq(\"example_fastq.fastq\", 15)"
   ]
  }
 ],
 "metadata": {
  "kernelspec": {
   "display_name": "Python 3 (ipykernel)",
   "language": "python",
   "name": "python3"
  },
  "language_info": {
   "codemirror_mode": {
    "name": "ipython",
    "version": 3
   },
   "file_extension": ".py",
   "mimetype": "text/x-python",
   "name": "python",
   "nbconvert_exporter": "python",
   "pygments_lexer": "ipython3",
   "version": "3.9.12"
  }
 },
 "nbformat": 4,
 "nbformat_minor": 5
}
